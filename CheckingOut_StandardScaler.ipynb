{
 "cells": [
  {
   "cell_type": "code",
   "execution_count": 1,
   "metadata": {},
   "outputs": [
    {
     "name": "stdout",
     "output_type": "stream",
     "text": [
      "(42000, 785)\n"
     ]
    },
    {
     "name": "stderr",
     "output_type": "stream",
     "text": [
      "/anaconda3/lib/python3.6/site-packages/sklearn/utils/validation.py:595: DataConversionWarning: Data with input dtype int64 was converted to float64 by StandardScaler.\n",
      "  warnings.warn(msg, DataConversionWarning)\n",
      "/anaconda3/lib/python3.6/site-packages/sklearn/utils/validation.py:595: DataConversionWarning: Data with input dtype int64 was converted to float64 by StandardScaler.\n",
      "  warnings.warn(msg, DataConversionWarning)\n"
     ]
    }
   ],
   "source": [
    "import pandas as pd\n",
    "import numpy as np\n",
    "import seaborn as sb\n",
    "sb.set_style(\"dark\")\n",
    "from sklearn.linear_model import LogisticRegression\n",
    "from sklearn.preprocessing import StandardScaler\n",
    "\n",
    "# Read Data\n",
    "train = pd.read_csv('./input/train.csv')\n",
    "test = pd.read_csv('./input/test.csv')\n",
    "train.head\n",
    "\n",
    "print(train.shape)\n",
    "\n",
    "# save the labels to a Pandas series target\n",
    "target = train['label']\n",
    "# Drop the label feature\n",
    "train = train.drop(\"label\",axis=1)\n",
    "\n",
    "# Standardize Data\n",
    "X = train.values\n",
    "X_std = StandardScaler().fit_transform(X)\n",
    "Y = target.values\n",
    "\n"
   ]
  },
  {
   "cell_type": "code",
   "execution_count": 2,
   "metadata": {},
   "outputs": [
    {
     "data": {
      "image/png": "[encoded data removed]",
      "text/plain": [
       "<Figure size 432x288 with 1 Axes>"
      ]
     },
     "metadata": {
      "needs_background": "light"
     },
     "output_type": "display_data"
    }
   ],
   "source": [
    "import matplotlib.pyplot as plt\n",
    "n, bins, patches = plt.hist(X[4], 50, density=1, facecolor='g', alpha=0.75)\n",
    "#alpha specifies opaqueness, 0.0 transparent, 1.0 opaque\n",
    "\n",
    "\n",
    "#plt.axis([0, 255, 0, .2])\n",
    "plt.grid(True)\n",
    "plt.show()"
   ]
  },
  {
   "cell_type": "code",
   "execution_count": 3,
   "metadata": {},
   "outputs": [
    {
     "data": {
      "image/png": "[encoded data removed]",
      "text/plain": [
       "<Figure size 432x288 with 1 Axes>"
      ]
     },
     "metadata": {
      "needs_background": "light"
     },
     "output_type": "display_data"
    },
    {
     "name": "stdout",
     "output_type": "stream",
     "text": [
      "0\n"
     ]
    }
   ],
   "source": [
    "num=4\n",
    "grid_data = X[num].reshape(28,28)  # reshape from 1d to 2d pixel array\n",
    "plt.imshow(grid_data, interpolation = \"none\", cmap = \"bone_r\")\n",
    "plt.show()\n",
    "print(target[num])"
   ]
  },
  {
   "cell_type": "code",
   "execution_count": 4,
   "metadata": {},
   "outputs": [
    {
     "name": "stdout",
     "output_type": "stream",
     "text": [
      "[0.13483248 0.00050217 0.00025108 0.00050217 0.00125542 0.00125542\n",
      " 0.00075325 0.00050217 0.         0.         0.         0.\n",
      " 0.         0.00025108 0.00025108 0.00050217 0.00025108 0.00125542\n",
      " 0.         0.00150651 0.00125542 0.00050217 0.00050217 0.\n",
      " 0.         0.00150651 0.00025108 0.00075325 0.         0.00025108\n",
      " 0.00075325 0.00050217 0.         0.         0.         0.\n",
      " 0.         0.         0.00050217 0.00075325 0.00125542 0.00100434\n",
      " 0.00175759 0.00075325 0.00025108 0.00050217 0.00050217 0.\n",
      " 0.00100434 0.03841596] [  0.     5.08  10.16  15.24  20.32  25.4   30.48  35.56  40.64  45.72\n",
      "  50.8   55.88  60.96  66.04  71.12  76.2   81.28  86.36  91.44  96.52\n",
      " 101.6  106.68 111.76 116.84 121.92 127.   132.08 137.16 142.24 147.32\n",
      " 152.4  157.48 162.56 167.64 172.72 177.8  182.88 187.96 193.04 198.12\n",
      " 203.2  208.28 213.36 218.44 223.52 228.6  233.68 238.76 243.84 248.92\n",
      " 254.  ] 0.19685039370078747\n"
     ]
    }
   ],
   "source": [
    "print(n,bins,n.sum())\n"
   ]
  },
  {
   "cell_type": "code",
   "execution_count": 5,
   "metadata": {},
   "outputs": [
    {
     "name": "stdout",
     "output_type": "stream",
     "text": [
      "5.773729096615589\n"
     ]
    },
    {
     "data": {
      "image/png": "[encoded data removed]",
      "text/plain": [
       "<Figure size 432x288 with 1 Axes>"
      ]
     },
     "metadata": {
      "needs_background": "light"
     },
     "output_type": "display_data"
    }
   ],
   "source": [
    "n, bins, patches = plt.hist(X_std[4], 50, density=1, facecolor='g', alpha=0.75)\n",
    "print(X_std[4].max())\n",
    "\n",
    "#plt.axis([0, 6, 0, 2])\n",
    "plt.grid(True)\n",
    "plt.show()"
   ]
  },
  {
   "cell_type": "code",
   "execution_count": 6,
   "metadata": {},
   "outputs": [
    {
     "data": {
      "image/png": "[encoded data removed]",
      "text/plain": [
       "<Figure size 432x288 with 1 Axes>"
      ]
     },
     "metadata": {
      "needs_background": "light"
     },
     "output_type": "display_data"
    },
    {
     "name": "stdout",
     "output_type": "stream",
     "text": [
      "0\n"
     ]
    }
   ],
   "source": [
    "num=4\n",
    "grid_data = X_std[num].reshape(28,28)  # reshape from 1d to 2d pixel array\n",
    "plt.imshow(grid_data, interpolation = \"none\", cmap = \"bone_r\")\n",
    "plt.show()\n",
    "print(target[num])"
   ]
  },
  {
   "cell_type": "code",
   "execution_count": 7,
   "metadata": {},
   "outputs": [
    {
     "data": {
      "image/png": "[encoded data removed]",
      "text/plain": [
       "<Figure size 432x288 with 1 Axes>"
      ]
     },
     "metadata": {
      "needs_background": "light"
     },
     "output_type": "display_data"
    },
    {
     "name": "stdout",
     "output_type": "stream",
     "text": [
      "0\n"
     ]
    }
   ],
   "source": [
    "num=4\n",
    "grid_data = X_std[num].reshape(28,28)  # reshape from 1d to 2d pixel array\n",
    "plt.imshow(grid_data, interpolation = \"none\", cmap = \"binary\")\n",
    "plt.show()\n",
    "print(target[num])"
   ]
  },
  {
   "cell_type": "code",
   "execution_count": 8,
   "metadata": {},
   "outputs": [
    {
     "name": "stdout",
     "output_type": "stream",
     "text": [
      "[0.09047515 0.16285528 0.25333043 0.26237795 0.00904752 0.10857018\n",
      " 0.18999782 0.66046863 2.32521146 1.03141676 0.04523758 0.04523758\n",
      " 0.00904752 0.04523758 0.06333261 0.05428509 0.10857018 0.18095031\n",
      " 0.16285528 0.14476025 0.06333261 0.16285528 0.1176177  0.08142764\n",
      " 0.08142764 0.07238012 0.09047515 0.09047515 0.06333261 0.04523758\n",
      " 0.00904752 0.03619006 0.04523758 0.00904752 0.01809503 0.03619006\n",
      " 0.         0.00904752 0.00904752 0.00904752 0.01809503 0.02714255\n",
      " 0.00904752 0.00904752 0.00904752 0.         0.         0.00904752\n",
      " 0.         0.00904752] [-1.27522383 -1.13424477 -0.99326571 -0.85228665 -0.71130759 -0.57032853\n",
      " -0.42934948 -0.28837042 -0.14739136 -0.0064123   0.13456676  0.27554582\n",
      "  0.41652488  0.55750393  0.69848299  0.83946205  0.98044111  1.12142017\n",
      "  1.26239923  1.40337828  1.54435734  1.6853364   1.82631546  1.96729452\n",
      "  2.10827358  2.24925264  2.39023169  2.53121075  2.67218981  2.81316887\n",
      "  2.95414793  3.09512699  3.23610604  3.3770851   3.51806416  3.65904322\n",
      "  3.80002228  3.94100134  4.0819804   4.22295945  4.36393851  4.50491757\n",
      "  4.64589663  4.78687569  4.92785475  5.0688338   5.20981286  5.35079192\n",
      "  5.49177098  5.63275004  5.7737291 ] 7.093252082586576\n"
     ]
    }
   ],
   "source": [
    "print(n,bins,n.sum())"
   ]
  },
  {
   "cell_type": "code",
   "execution_count": 9,
   "metadata": {},
   "outputs": [
    {
     "data": {
      "text/plain": [
       "7.093252082586576"
      ]
     },
     "execution_count": 9,
     "metadata": {},
     "output_type": "execute_result"
    }
   ],
   "source": [
    "n.sum()"
   ]
  },
  {
   "cell_type": "code",
   "execution_count": null,
   "metadata": {},
   "outputs": [],
   "source": []
  }
 ],
 "metadata": {
  "kernelspec": {
   "display_name": "Python 3",
   "language": "python",
   "name": "python3"
  },
  "language_info": {
   "codemirror_mode": {
    "name": "ipython",
    "version": 3
   },
   "file_extension": ".py",
   "mimetype": "text/x-python",
   "name": "python",
   "nbconvert_exporter": "python",
   "pygments_lexer": "ipython3",
   "version": "3.6.8"
  }
 },
 "nbformat": 4,
 "nbformat_minor": 2
}
