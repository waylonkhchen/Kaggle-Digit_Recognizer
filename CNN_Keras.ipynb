{
 "cells": [
  {
   "cell_type": "code",
   "execution_count": 1,
   "metadata": {
    "_cell_guid": "b1076dfc-b9ad-4769-8c92-a6c4dae69d19",
    "_uuid": "8f2839f25d086af736a60e9eeb907d3b93b6e0e5"
   },
   "outputs": [
    {
     "name": "stdout",
     "output_type": "stream",
     "text": [
      "['sample_submission.csv', 'test.csv', 'train.csv']\n"
     ]
    }
   ],
   "source": [
    "# This Python 3 environment comes with many helpful analytics libraries installed\n",
    "# It is defined by the kaggle/python docker image: https://github.com/kaggle/docker-python\n",
    "# For example, here's several helpful packages to load in \n",
    "\n",
    "import numpy as np # linear algebra\n",
    "import pandas as pd # data processing, CSV file I/O (e.g. pd.read_csv)\n",
    "import matplotlib.pyplot as plt\n",
    "import seaborn as sns\n",
    "# Input data files are available in the \"../input/\" directory.\n",
    "# For example, running this (by clicking run or pressing Shift+Enter) will list the files in the input directory\n",
    "\n",
    "import os\n",
    "print(os.listdir(\"../input\"))\n",
    "\n",
    "# Any results you write to the current directory are saved as output."
   ]
  },
  {
   "cell_type": "markdown",
   "metadata": {
    "_uuid": "84cbaeb3fd5cdb87d2fc5b033aebe82c90c3f83a"
   },
   "source": [
    "# Data preparation\n",
    "## 2.1 Load data"
   ]
  },
  {
   "cell_type": "code",
   "execution_count": 2,
   "metadata": {
    "_cell_guid": "79c7e3d0-c299-4dcb-8224-4455121ee9b0",
    "_uuid": "d629ff2d2480ee46fbb7e2d37f6b5fab8052498a"
   },
   "outputs": [],
   "source": [
    "#load the data and pop the label\n",
    "train = pd.read_csv('../input/train.csv')\n",
    "test = pd.read_csv('../input/test.csv')\n",
    "labels = train.pop('label')\n",
    "\n",
    "X_train = train.values\n",
    "X_test = test.values"
   ]
  },
  {
   "cell_type": "markdown",
   "metadata": {
    "_uuid": "937a68e6c2c72932ef0f3fb6686826d7000bdd4f"
   },
   "source": [
    "## 2.2 Check for null"
   ]
  },
  {
   "cell_type": "code",
   "execution_count": 3,
   "metadata": {
    "_uuid": "33733960d0799f57d6876a12127df97b89b65a87"
   },
   "outputs": [
    {
     "name": "stdout",
     "output_type": "stream",
     "text": [
      "count       784\n",
      "unique        1\n",
      "top       False\n",
      "freq        784\n",
      "dtype: object\n",
      "count       784\n",
      "unique        1\n",
      "top       False\n",
      "freq        784\n",
      "dtype: object\n"
     ]
    },
    {
     "data": {
      "text/plain": [
       "<matplotlib.axes._subplots.AxesSubplot at 0x7f08ca0fde80>"
      ]
     },
     "execution_count": 3,
     "metadata": {},
     "output_type": "execute_result"
    },
    {
     "data": {
      "image/png": "[encoded data removed]",
      "text/plain": [
       "<Figure size 432x288 with 1 Axes>"
      ]
     },
     "metadata": {},
     "output_type": "display_data"
    }
   ],
   "source": [
    "print(train.isnull().any().describe())\n",
    "print(test.isnull().any().describe())\n",
    "\n",
    "#check the distribution of training labels\n",
    "sns.countplot(labels)"
   ]
  },
  {
   "cell_type": "markdown",
   "metadata": {
    "_uuid": "3740830ee9f7314c9374d984ab5d65e9c1095c49"
   },
   "source": [
    "It shows no missing data.\n",
    "The label data are uniformly distributed"
   ]
  },
  {
   "cell_type": "markdown",
   "metadata": {
    "_uuid": "e05c734ea999fc701b0c9cb0d0ccc2198eb98278"
   },
   "source": [
    "## 2.3 show an image example"
   ]
  },
  {
   "cell_type": "code",
   "execution_count": 4,
   "metadata": {
    "_uuid": "4cf80cde53ea79d5f9cae41ac5fe109521a02b13"
   },
   "outputs": [
    {
     "data": {
      "image/png": "[encoded data removed]",
      "text/plain": [
       "<Figure size 432x288 with 1 Axes>"
      ]
     },
     "metadata": {},
     "output_type": "display_data"
    }
   ],
   "source": [
    "\n",
    "#reshape for showing images\n",
    "img_X = [X_train[i].reshape((28,28)) for i in range(train.shape[0]) ] #reshape for visualization\n",
    "#Visulaize the ith training data\n",
    "i=0\n",
    "plt.figure()\n",
    "plt.imshow(img_X[i],cmap='gray')\n",
    "plt.title(labels[i]);\n"
   ]
  },
  {
   "cell_type": "markdown",
   "metadata": {
    "_uuid": "3e9b4d7a96ebff04444ccdcd6d41a8ec0a71acdd"
   },
   "source": [
    "## 2.4 label encoding"
   ]
  },
  {
   "cell_type": "code",
   "execution_count": 5,
   "metadata": {
    "_uuid": "2734bf3c50b45c7a4917ef0d4986b77e8d7e8a46"
   },
   "outputs": [
    {
     "name": "stderr",
     "output_type": "stream",
     "text": [
      "Using TensorFlow backend.\n"
     ]
    },
    {
     "data": {
      "image/png": "[encoded data removed]",
      "text/plain": [
       "<Figure size 432x288 with 1 Axes>"
      ]
     },
     "metadata": {},
     "output_type": "display_data"
    }
   ],
   "source": [
    "#if we do the one hot vector encoding, we will use 'categorical_crossentropy' for loss function\n",
    "#otherwise, with integer labels as our targets, we use  'sparse_categorical_crossentropy'\n",
    "\n",
    "from keras.utils.np_utils import to_categorical\n",
    "#encode labels to one hot vector\n",
    "Y_train = to_categorical(labels,num_classes=10);\n",
    "plt.plot(Y_train[0])\n",
    "plt.title(labels.iloc[0]);"
   ]
  },
  {
   "cell_type": "markdown",
   "metadata": {
    "_uuid": "3863ef94b0495e45736584b036c39b7268ca42fe"
   },
   "source": [
    "encode the label to one hot vector"
   ]
  },
  {
   "cell_type": "markdown",
   "metadata": {
    "_uuid": "bbaaeac64da9eea5076e3f7d45c3e03cd30fcbd3"
   },
   "source": [
    "## 2.5 split training and validation"
   ]
  },
  {
   "cell_type": "code",
   "execution_count": 6,
   "metadata": {
    "_uuid": "b94038965a4163d3071bdbd1ac49659fd3ed74c6"
   },
   "outputs": [],
   "source": [
    "from sklearn.model_selection import train_test_split\n",
    "\n",
    "#set therandom seed\n",
    "random_seed=1;\n",
    "#split the train and validation sets\n",
    "x_train, x_val, y_train, y_val = train_test_split(X_train,labels, test_size =.2, random_state = random_seed)"
   ]
  },
  {
   "cell_type": "code",
   "execution_count": 7,
   "metadata": {
    "_uuid": "64537275f1d1edc3cd574c83c1e9845428637466"
   },
   "outputs": [
    {
     "name": "stderr",
     "output_type": "stream",
     "text": [
      "/opt/conda/lib/python3.6/site-packages/sklearn/utils/validation.py:595: DataConversionWarning: Data with input dtype int64 was converted to float64 by StandardScaler.\n",
      "  warnings.warn(msg, DataConversionWarning)\n",
      "/opt/conda/lib/python3.6/site-packages/sklearn/utils/validation.py:595: DataConversionWarning: Data with input dtype int64 was converted to float64 by StandardScaler.\n",
      "  warnings.warn(msg, DataConversionWarning)\n",
      "/opt/conda/lib/python3.6/site-packages/sklearn/utils/validation.py:595: DataConversionWarning: Data with input dtype int64 was converted to float64 by StandardScaler.\n",
      "  warnings.warn(msg, DataConversionWarning)\n"
     ]
    }
   ],
   "source": [
    "from sklearn.preprocessing import StandardScaler\n",
    "scaler = StandardScaler()\n",
    "scaler.fit(x_train)\n",
    "\n",
    "scaled_x_train = scaler.transform(x_train)\n",
    "scaled_x_train = scaled_x_train.reshape(-1,28,28,1)\n",
    "\n",
    "scaled_x_val = scaler.transform(x_val)\n",
    "scaled_x_val = scaled_x_val.reshape(-1,28,28,1)\n"
   ]
  },
  {
   "cell_type": "markdown",
   "metadata": {
    "_uuid": "3d4037b981a951899ba67955fba52cee0f7f06f4"
   },
   "source": [
    "# 3. CNN\n",
    "## 3.1 Define the model"
   ]
  },
  {
   "cell_type": "code",
   "execution_count": 8,
   "metadata": {
    "_uuid": "be8f3deefa90c28114565a7327fc2d72ced9462d"
   },
   "outputs": [
    {
     "name": "stdout",
     "output_type": "stream",
     "text": [
      "1.13.1\n"
     ]
    }
   ],
   "source": [
    "# TensorFlow and tf.keras\n",
    "import tensorflow as tf\n",
    "from tensorflow import keras\n",
    "from keras.utils.np_utils import to_categorical # convert to one-hot-encoding\n",
    "from keras.models import Sequential\n",
    "from keras.layers import Dense, Dropout, Flatten, Conv2D, MaxPool2D, BatchNormalization\n",
    "from keras.optimizers import RMSprop\n",
    "from keras.preprocessing.image import ImageDataGenerator #For data augmentation\n",
    "from keras.callbacks import ReduceLROnPlateau #for annealer\n",
    "\n",
    "\n",
    "print(tf.__version__)"
   ]
  },
  {
   "cell_type": "code",
   "execution_count": 9,
   "metadata": {
    "_uuid": "8d22771f0e16d3a9116ea492ceade2eb0c43d931"
   },
   "outputs": [
    {
     "name": "stdout",
     "output_type": "stream",
     "text": [
      "WARNING:tensorflow:From /opt/conda/lib/python3.6/site-packages/tensorflow/python/framework/op_def_library.py:263: colocate_with (from tensorflow.python.framework.ops) is deprecated and will be removed in a future version.\n",
      "Instructions for updating:\n",
      "Colocations handled automatically by placer.\n",
      "WARNING:tensorflow:From /opt/conda/lib/python3.6/site-packages/keras/backend/tensorflow_backend.py:3445: calling dropout (from tensorflow.python.ops.nn_ops) with keep_prob is deprecated and will be removed in a future version.\n",
      "Instructions for updating:\n",
      "Please use `rate` instead of `keep_prob`. Rate should be set to `rate = 1 - keep_prob`.\n"
     ]
    }
   ],
   "source": [
    "#label.unique()#total number of different labels\n",
    "\n",
    "#build the keras NN model\n",
    "model =Sequential([\n",
    "#     Dense(16,activation='relu',input_shape = (28,28,1)),\n",
    "    \n",
    "    Conv2D(filters = 64, activation = 'relu',kernel_size=(5,5),padding='Same',input_shape = (28,28,1)),\n",
    "    Conv2D(filters = 64, activation = 'relu',kernel_size=(5,5),padding='Same'),\n",
    "    MaxPool2D(pool_size=(2,2),strides=(2,2)),\n",
    "    Dropout(0.25),\n",
    "    \n",
    "    Conv2D(filters = 64, activation = 'relu',kernel_size=(3,3),padding='Same'),\n",
    "    Conv2D(filters = 64, activation = 'relu',kernel_size=(3,3),padding='Same'),\n",
    "    MaxPool2D(pool_size=(2,2),strides=(2,2)),\n",
    "    Dropout(0.25),\n",
    "    \n",
    "    Flatten(),\n",
    "    Dense(256, activation='relu'),\n",
    "#     BatchNormalization(axis=1),\n",
    "#     Dropout(0.3),\n",
    "#     Dense(32, activation='relu'),\n",
    "# #     BatchNormalization(axis=1),\n",
    "    Dropout(0.5),\n",
    "    Dense(10, activation='softmax'), #a normalized exponential functions for probability\n",
    "])\n",
    "\n",
    "\n",
    "#compile the model\n",
    "optimizer = RMSprop(lr=0.001)\n",
    "\n",
    "model.compile(optimizer = optimizer,\n",
    "              loss= 'sparse_categorical_crossentropy',\n",
    "              metrics = ['acc']\n",
    "             )"
   ]
  },
  {
   "cell_type": "code",
   "execution_count": 10,
   "metadata": {
    "_uuid": "d8f022c1b9d017a091aff38903dd21682bc3a6be"
   },
   "outputs": [
    {
     "name": "stdout",
     "output_type": "stream",
     "text": [
      "_________________________________________________________________\n",
      "Layer (type)                 Output Shape              Param #   \n",
      "=================================================================\n",
      "conv2d_1 (Conv2D)            (None, 28, 28, 64)        1664      \n",
      "_________________________________________________________________\n",
      "conv2d_2 (Conv2D)            (None, 28, 28, 64)        102464    \n",
      "_________________________________________________________________\n",
      "max_pooling2d_1 (MaxPooling2 (None, 14, 14, 64)        0         \n",
      "_________________________________________________________________\n",
      "dropout_1 (Dropout)          (None, 14, 14, 64)        0         \n",
      "_________________________________________________________________\n",
      "conv2d_3 (Conv2D)            (None, 14, 14, 64)        36928     \n",
      "_________________________________________________________________\n",
      "conv2d_4 (Conv2D)            (None, 14, 14, 64)        36928     \n",
      "_________________________________________________________________\n",
      "max_pooling2d_2 (MaxPooling2 (None, 7, 7, 64)          0         \n",
      "_________________________________________________________________\n",
      "dropout_2 (Dropout)          (None, 7, 7, 64)          0         \n",
      "_________________________________________________________________\n",
      "flatten_1 (Flatten)          (None, 3136)              0         \n",
      "_________________________________________________________________\n",
      "dense_1 (Dense)              (None, 256)               803072    \n",
      "_________________________________________________________________\n",
      "dropout_3 (Dropout)          (None, 256)               0         \n",
      "_________________________________________________________________\n",
      "dense_2 (Dense)              (None, 10)                2570      \n",
      "=================================================================\n",
      "Total params: 983,626\n",
      "Trainable params: 983,626\n",
      "Non-trainable params: 0\n",
      "_________________________________________________________________\n"
     ]
    }
   ],
   "source": [
    "model.summary()"
   ]
  },
  {
   "cell_type": "code",
   "execution_count": 11,
   "metadata": {
    "_uuid": "be4dea6358f59457049cfe2eccb0912ef7764aec"
   },
   "outputs": [],
   "source": [
    "# Set a learning rate annealer\n",
    "learning_rate_reduction = ReduceLROnPlateau(monitor='val_acc', \n",
    "                                            patience=3, \n",
    "                                            verbose=1, \n",
    "                                            factor=0.5, \n",
    "                                            min_lr=0.00001)\n"
   ]
  },
  {
   "cell_type": "code",
   "execution_count": 12,
   "metadata": {
    "_uuid": "ea9c5984ced3af8db9b3c37d5c31a0a832be017e"
   },
   "outputs": [],
   "source": [
    "model.save_weights('model.init')"
   ]
  },
  {
   "cell_type": "code",
   "execution_count": 13,
   "metadata": {
    "_uuid": "1acfd15ccc30129d3160e1406016145d5fbd24d7"
   },
   "outputs": [
    {
     "name": "stdout",
     "output_type": "stream",
     "text": [
      "WARNING:tensorflow:From /opt/conda/lib/python3.6/site-packages/tensorflow/python/ops/math_ops.py:3066: to_int32 (from tensorflow.python.ops.math_ops) is deprecated and will be removed in a future version.\n",
      "Instructions for updating:\n",
      "Use tf.cast instead.\n",
      "Train on 33600 samples, validate on 8400 samples\n",
      "Epoch 1/40\n",
      " - 5s - loss: 0.2615 - acc: 0.9177 - val_loss: 0.0543 - val_acc: 0.9827\n",
      "Epoch 2/40\n",
      " - 3s - loss: 0.0828 - acc: 0.9760 - val_loss: 0.0572 - val_acc: 0.9854\n",
      "Epoch 3/40\n",
      " - 3s - loss: 0.0609 - acc: 0.9823 - val_loss: 0.0501 - val_acc: 0.9846\n",
      "Epoch 4/40\n",
      " - 3s - loss: 0.0543 - acc: 0.9847 - val_loss: 0.0452 - val_acc: 0.9874\n",
      "Epoch 5/40\n",
      " - 3s - loss: 0.0464 - acc: 0.9862 - val_loss: 0.0525 - val_acc: 0.9876\n",
      "Epoch 6/40\n",
      " - 3s - loss: 0.0422 - acc: 0.9881 - val_loss: 0.0338 - val_acc: 0.9901\n",
      "Epoch 7/40\n",
      " - 3s - loss: 0.0393 - acc: 0.9891 - val_loss: 0.0439 - val_acc: 0.9889\n",
      "Epoch 8/40\n",
      " - 3s - loss: 0.0372 - acc: 0.9894 - val_loss: 0.0351 - val_acc: 0.9910\n",
      "Epoch 9/40\n",
      " - 3s - loss: 0.0382 - acc: 0.9896 - val_loss: 0.0528 - val_acc: 0.9879\n",
      "Epoch 10/40\n",
      " - 3s - loss: 0.0380 - acc: 0.9902 - val_loss: 0.0342 - val_acc: 0.9906\n",
      "Epoch 11/40\n",
      " - 3s - loss: 0.0328 - acc: 0.9911 - val_loss: 0.0454 - val_acc: 0.9917\n",
      "Epoch 12/40\n",
      " - 3s - loss: 0.0343 - acc: 0.9910 - val_loss: 0.0381 - val_acc: 0.9900\n",
      "Epoch 13/40\n",
      " - 3s - loss: 0.0358 - acc: 0.9911 - val_loss: 0.0428 - val_acc: 0.9881\n",
      "Epoch 14/40\n",
      " - 3s - loss: 0.0390 - acc: 0.9912 - val_loss: 0.0388 - val_acc: 0.9910\n",
      "\n",
      "Epoch 00014: ReduceLROnPlateau reducing learning rate to 0.0005000000237487257.\n",
      "Epoch 15/40\n",
      " - 3s - loss: 0.0213 - acc: 0.9947 - val_loss: 0.0449 - val_acc: 0.9919\n",
      "Epoch 16/40\n",
      " - 3s - loss: 0.0165 - acc: 0.9956 - val_loss: 0.0383 - val_acc: 0.9924\n",
      "Epoch 17/40\n",
      " - 3s - loss: 0.0177 - acc: 0.9950 - val_loss: 0.0483 - val_acc: 0.9906\n",
      "Epoch 18/40\n",
      " - 3s - loss: 0.0173 - acc: 0.9954 - val_loss: 0.0388 - val_acc: 0.9926\n",
      "Epoch 19/40\n",
      " - 3s - loss: 0.0189 - acc: 0.9954 - val_loss: 0.0431 - val_acc: 0.9913\n",
      "Epoch 20/40\n",
      " - 3s - loss: 0.0169 - acc: 0.9958 - val_loss: 0.0448 - val_acc: 0.9930\n",
      "Epoch 21/40\n",
      " - 3s - loss: 0.0171 - acc: 0.9962 - val_loss: 0.0409 - val_acc: 0.9932\n",
      "Epoch 22/40\n",
      " - 3s - loss: 0.0204 - acc: 0.9952 - val_loss: 0.0379 - val_acc: 0.9915\n",
      "Epoch 23/40\n",
      " - 3s - loss: 0.0182 - acc: 0.9956 - val_loss: 0.0530 - val_acc: 0.9926\n",
      "Epoch 24/40\n",
      " - 3s - loss: 0.0169 - acc: 0.9960 - val_loss: 0.0514 - val_acc: 0.9921\n",
      "\n",
      "Epoch 00024: ReduceLROnPlateau reducing learning rate to 0.0002500000118743628.\n",
      "Epoch 25/40\n",
      " - 3s - loss: 0.0155 - acc: 0.9965 - val_loss: 0.0439 - val_acc: 0.9935\n",
      "Epoch 26/40\n",
      " - 3s - loss: 0.0120 - acc: 0.9972 - val_loss: 0.0413 - val_acc: 0.9939\n",
      "Epoch 27/40\n",
      " - 3s - loss: 0.0103 - acc: 0.9977 - val_loss: 0.0497 - val_acc: 0.9933\n",
      "Epoch 28/40\n",
      " - 3s - loss: 0.0104 - acc: 0.9975 - val_loss: 0.0394 - val_acc: 0.9938\n",
      "Epoch 29/40\n",
      " - 3s - loss: 0.0104 - acc: 0.9974 - val_loss: 0.0434 - val_acc: 0.9931\n",
      "\n",
      "Epoch 00029: ReduceLROnPlateau reducing learning rate to 0.0001250000059371814.\n",
      "Epoch 30/40\n",
      " - 3s - loss: 0.0090 - acc: 0.9980 - val_loss: 0.0463 - val_acc: 0.9932\n",
      "Epoch 31/40\n",
      " - 3s - loss: 0.0075 - acc: 0.9983 - val_loss: 0.0432 - val_acc: 0.9942\n",
      "Epoch 32/40\n",
      " - 3s - loss: 0.0081 - acc: 0.9981 - val_loss: 0.0383 - val_acc: 0.9946\n",
      "Epoch 33/40\n",
      " - 3s - loss: 0.0076 - acc: 0.9985 - val_loss: 0.0423 - val_acc: 0.9944\n",
      "Epoch 34/40\n",
      " - 3s - loss: 0.0069 - acc: 0.9985 - val_loss: 0.0436 - val_acc: 0.9933\n",
      "Epoch 35/40\n",
      " - 3s - loss: 0.0063 - acc: 0.9984 - val_loss: 0.0511 - val_acc: 0.9926\n",
      "\n",
      "Epoch 00035: ReduceLROnPlateau reducing learning rate to 6.25000029685907e-05.\n",
      "Epoch 36/40\n",
      " - 3s - loss: 0.0043 - acc: 0.9991 - val_loss: 0.0458 - val_acc: 0.9935\n",
      "Epoch 37/40\n",
      " - 3s - loss: 0.0074 - acc: 0.9987 - val_loss: 0.0456 - val_acc: 0.9940\n",
      "Epoch 38/40\n",
      " - 3s - loss: 0.0048 - acc: 0.9987 - val_loss: 0.0464 - val_acc: 0.9939\n",
      "\n",
      "Epoch 00038: ReduceLROnPlateau reducing learning rate to 3.125000148429535e-05.\n",
      "Epoch 39/40\n",
      " - 3s - loss: 0.0047 - acc: 0.9987 - val_loss: 0.0456 - val_acc: 0.9940\n",
      "Epoch 40/40\n",
      " - 3s - loss: 0.0040 - acc: 0.9987 - val_loss: 0.0436 - val_acc: 0.9938\n"
     ]
    }
   ],
   "source": [
    "#train the model\n",
    "EPOCHS = 40;\n",
    "batch_size = 84;\n",
    "\n",
    "# # Display training progress by printing a single dot for each completed epoch\n",
    "# class PrintDot(keras.callbacks.Callback):\n",
    "#   def on_epoch_end(self, epoch, logs):\n",
    "#     if epoch % 10 == 0: print('')\n",
    "#     print('.', end='')\n",
    "    \n",
    "# #set earlystop when val_loss is not improving, patienece is the amount of epochs to check for improvement\n",
    "# early_stop = keras.callbacks.EarlyStopping(monitor='val_loss', patience=5)\n",
    "\n",
    "history = model.fit(scaled_x_train.reshape(-1,28,28,1), y_train,\n",
    "                    batch_size=batch_size,\n",
    "                    epochs=EPOCHS,\n",
    "                    validation_data = (scaled_x_val.reshape(-1,28,28,1),y_val),\n",
    "                    verbose=2,\n",
    "                    callbacks = [learning_rate_reduction]\n",
    "                   )\n",
    "#   callbacks=[\n",
    "#               early_stop,\n",
    "#               PrintDot()])"
   ]
  },
  {
   "cell_type": "code",
   "execution_count": 14,
   "metadata": {
    "_uuid": "7550a9ef263d8becf08c90284263cc706d237ecc"
   },
   "outputs": [],
   "source": [
    "model.save_weights('model.fitted')"
   ]
  },
  {
   "cell_type": "code",
   "execution_count": 15,
   "metadata": {
    "_uuid": "6152adc69fa2d7ca6904d48c43a9e7e555afe9b6"
   },
   "outputs": [
    {
     "data": {
      "image/png": "[encoded data removed]",
      "text/plain": [
       "<Figure size 432x288 with 2 Axes>"
      ]
     },
     "metadata": {},
     "output_type": "display_data"
    }
   ],
   "source": [
    " #Plot the loss and accuracy curves for training and validation \n",
    "fig, ax = plt.subplots(2,1)\n",
    "ax[0].plot(history.history['loss'], color='b', label=\"Training loss\")\n",
    "ax[0].plot(history.history['val_loss'], color='r', label=\"validation loss\",axes =ax[0])\n",
    "legend = ax[0].legend(loc='best', shadow=True)\n",
    "\n",
    "ax[1].plot(history.history['acc'], color='b', label=\"Training accuracy\")\n",
    "ax[1].plot(history.history['val_acc'], color='r',label=\"Validation accuracy\")\n",
    "legend = ax[1].legend(loc='best', shadow=True)\n"
   ]
  },
  {
   "cell_type": "code",
   "execution_count": 16,
   "metadata": {
    "_uuid": "af09f0463210e40e4c31f6517daa585708da4b60"
   },
   "outputs": [],
   "source": [
    "from sklearn.metrics import confusion_matrix\n",
    "Y_preds = model.predict(x_val.reshape(-1,28,28,1))\n",
    "Y_preds = np.argmax(Y_preds,axis=1)\n",
    "confusion_mtx = confusion_matrix(y_true=y_val,y_pred=Y_preds)\n",
    "classes = range(10)"
   ]
  },
  {
   "cell_type": "code",
   "execution_count": 17,
   "metadata": {
    "_uuid": "6e154e86cc6ac44bd907c6ae6a413f7658828702"
   },
   "outputs": [
    {
     "data": {
      "image/png": "[encoded data removed]",
      "text/plain": [
       "<Figure size 432x288 with 2 Axes>"
      ]
     },
     "metadata": {},
     "output_type": "display_data"
    }
   ],
   "source": [
    "sns.heatmap(confusion_mtx,annot=True, fmt = 'd', cmap =plt.cm.Blues)\n",
    "plt.tight_layout();\n",
    "plt.yticks(rotation=0)\n",
    "plt.ylabel('True label');\n",
    "plt.xlabel('Predicted label');"
   ]
  },
  {
   "cell_type": "code",
   "execution_count": 18,
   "metadata": {
    "_uuid": "39b731c6ac9fef17da9d4e1a59f65d907b197a28"
   },
   "outputs": [],
   "source": [
    "# import itertools\n",
    "# def plot_confusion_matrix(cm,classes,normalize=False, \n",
    "#                           title ='Confusion Matrix',cmap= plt.cm.Blues):\n",
    "#     plt.imshow(cm, cmap= cmap)\n",
    "#     plt.colorbar()\n",
    "\n",
    "#     tick_marks = np.arange(len(classes));\n",
    "#     plt.xticks(tick_marks, classes);\n",
    "#     plt.yticks(tick_marks, classes);\n",
    "#     if normalize:\n",
    "#         cm = cm.astype('float') / cm.sum(axis=1)[:, np.newaxis]\n",
    "\n",
    "#     thresh = cm.max() / 2.\n",
    "#     for i, j in itertools.product(range(cm.shape[0]), range(cm.shape[1])):\n",
    "#         plt.text(j, i, cm[i, j],\n",
    "#                  horizontalalignment=\"center\",\n",
    "#                  color=\"white\" if cm[i, j] > thresh else \"black\")\n",
    "#     plt.tight_layout()\n",
    "#     plt.ylabel('True label')\n",
    "#     plt.xlabel('Predicted label')\n",
    "        \n",
    "# plot_confusion_matrix(confusion_mtx,classes)"
   ]
  },
  {
   "cell_type": "code",
   "execution_count": 19,
   "metadata": {
    "_uuid": "1ee4d59da0441141f3d4960fdb790602fb40db3e"
   },
   "outputs": [],
   "source": [
    "# With data augmentation to prevent overfitting \n",
    "\n",
    "datagen = ImageDataGenerator(\n",
    "        featurewise_center=False,  # set input mean to 0 over the dataset\n",
    "        samplewise_center=False,  # set each sample mean to 0\n",
    "        featurewise_std_normalization=False,  # divide inputs by std of the dataset\n",
    "        samplewise_std_normalization=False,  # divide each input by its std\n",
    "        zca_whitening=False,  # apply ZCA whitening\n",
    "        rotation_range=10,  # randomly rotate images in the range (degrees, 0 to 180)\n",
    "        zoom_range = 0.1, # Randomly zoom image \n",
    "        width_shift_range=0.1,  # randomly shift images horizontally (fraction of total width)\n",
    "        height_shift_range=0.1,  # randomly shift images vertically (fraction of total height)\n",
    "        horizontal_flip=False,  # randomly flip images\n",
    "        vertical_flip=False  # randomly flip images\n",
    "        ) \n",
    "\n",
    "\n",
    "datagen.fit(scaled_x_train)"
   ]
  },
  {
   "cell_type": "code",
   "execution_count": 20,
   "metadata": {
    "_uuid": "c0f3e4c6b4978246684b9514762c9a9c5a9a2e2a"
   },
   "outputs": [
    {
     "name": "stdout",
     "output_type": "stream",
     "text": [
      "Epoch 1/150\n",
      " - 8s - loss: 1.6695 - acc: 0.4396 - val_loss: 0.6413 - val_acc: 0.8200\n",
      "Epoch 2/150\n",
      " - 7s - loss: 0.9200 - acc: 0.7036 - val_loss: 0.2782 - val_acc: 0.9205\n",
      "Epoch 3/150\n",
      " - 8s - loss: 0.6107 - acc: 0.8121 - val_loss: 0.1886 - val_acc: 0.9449\n",
      "Epoch 4/150\n",
      " - 8s - loss: 0.4654 - acc: 0.8579 - val_loss: 0.1494 - val_acc: 0.9548\n",
      "Epoch 5/150\n",
      " - 7s - loss: 0.3906 - acc: 0.8799 - val_loss: 0.1334 - val_acc: 0.9587\n",
      "Epoch 6/150\n",
      " - 8s - loss: 0.3418 - acc: 0.8970 - val_loss: 0.1187 - val_acc: 0.9636\n",
      "Epoch 7/150\n",
      " - 8s - loss: 0.3115 - acc: 0.9071 - val_loss: 0.1023 - val_acc: 0.9681\n",
      "Epoch 8/150\n",
      " - 8s - loss: 0.2772 - acc: 0.9180 - val_loss: 0.1059 - val_acc: 0.9671\n",
      "Epoch 9/150\n",
      " - 7s - loss: 0.2590 - acc: 0.9233 - val_loss: 0.0901 - val_acc: 0.9720\n",
      "Epoch 10/150\n",
      " - 7s - loss: 0.2430 - acc: 0.9289 - val_loss: 0.0892 - val_acc: 0.9715\n",
      "Epoch 11/150\n",
      " - 7s - loss: 0.2196 - acc: 0.9349 - val_loss: 0.0776 - val_acc: 0.9764\n",
      "Epoch 12/150\n",
      " - 7s - loss: 0.2067 - acc: 0.9379 - val_loss: 0.0770 - val_acc: 0.9755\n",
      "Epoch 13/150\n",
      " - 7s - loss: 0.1962 - acc: 0.9417 - val_loss: 0.0707 - val_acc: 0.9789\n",
      "Epoch 14/150\n",
      " - 8s - loss: 0.1881 - acc: 0.9443 - val_loss: 0.0684 - val_acc: 0.9799\n",
      "Epoch 15/150\n",
      " - 7s - loss: 0.1756 - acc: 0.9474 - val_loss: 0.0679 - val_acc: 0.9804\n",
      "Epoch 16/150\n",
      " - 7s - loss: 0.1671 - acc: 0.9508 - val_loss: 0.0609 - val_acc: 0.9817\n",
      "Epoch 17/150\n",
      " - 7s - loss: 0.1606 - acc: 0.9522 - val_loss: 0.0572 - val_acc: 0.9832\n",
      "Epoch 18/150\n",
      " - 7s - loss: 0.1521 - acc: 0.9531 - val_loss: 0.0624 - val_acc: 0.9813\n",
      "Epoch 19/150\n",
      " - 7s - loss: 0.1425 - acc: 0.9588 - val_loss: 0.0556 - val_acc: 0.9840\n",
      "Epoch 20/150\n",
      " - 7s - loss: 0.1392 - acc: 0.9593 - val_loss: 0.0512 - val_acc: 0.9846\n",
      "Epoch 21/150\n",
      " - 7s - loss: 0.1338 - acc: 0.9612 - val_loss: 0.0507 - val_acc: 0.9855\n",
      "Epoch 22/150\n",
      " - 7s - loss: 0.1304 - acc: 0.9610 - val_loss: 0.0497 - val_acc: 0.9858\n",
      "Epoch 23/150\n",
      " - 7s - loss: 0.1180 - acc: 0.9645 - val_loss: 0.0537 - val_acc: 0.9848\n",
      "Epoch 24/150\n",
      " - 8s - loss: 0.1216 - acc: 0.9638 - val_loss: 0.0509 - val_acc: 0.9865\n",
      "Epoch 25/150\n",
      " - 8s - loss: 0.1201 - acc: 0.9645 - val_loss: 0.0475 - val_acc: 0.9868\n",
      "Epoch 26/150\n",
      " - 7s - loss: 0.1147 - acc: 0.9659 - val_loss: 0.0456 - val_acc: 0.9876\n",
      "Epoch 27/150\n",
      " - 7s - loss: 0.1121 - acc: 0.9659 - val_loss: 0.0418 - val_acc: 0.9880\n",
      "Epoch 28/150\n",
      " - 7s - loss: 0.1062 - acc: 0.9672 - val_loss: 0.0425 - val_acc: 0.9883\n",
      "Epoch 29/150\n",
      " - 7s - loss: 0.1040 - acc: 0.9687 - val_loss: 0.0433 - val_acc: 0.9877\n",
      "Epoch 30/150\n",
      " - 7s - loss: 0.1003 - acc: 0.9704 - val_loss: 0.0414 - val_acc: 0.9881\n",
      "Epoch 31/150\n",
      " - 7s - loss: 0.0946 - acc: 0.9714 - val_loss: 0.0431 - val_acc: 0.9880\n",
      "\n",
      "Epoch 00031: ReduceLROnPlateau reducing learning rate to 1.5625000742147677e-05.\n",
      "Epoch 32/150\n",
      " - 7s - loss: 0.0927 - acc: 0.9713 - val_loss: 0.0394 - val_acc: 0.9883\n",
      "Epoch 33/150\n",
      " - 7s - loss: 0.0912 - acc: 0.9728 - val_loss: 0.0399 - val_acc: 0.9886\n",
      "Epoch 34/150\n",
      " - 7s - loss: 0.0894 - acc: 0.9729 - val_loss: 0.0388 - val_acc: 0.9892\n",
      "Epoch 35/150\n",
      " - 8s - loss: 0.0903 - acc: 0.9732 - val_loss: 0.0383 - val_acc: 0.9894\n",
      "Epoch 36/150\n",
      " - 8s - loss: 0.0909 - acc: 0.9726 - val_loss: 0.0387 - val_acc: 0.9895\n",
      "Epoch 37/150\n",
      " - 7s - loss: 0.0908 - acc: 0.9722 - val_loss: 0.0385 - val_acc: 0.9888\n",
      "Epoch 38/150\n",
      " - 7s - loss: 0.0867 - acc: 0.9743 - val_loss: 0.0362 - val_acc: 0.9899\n",
      "Epoch 39/150\n",
      " - 7s - loss: 0.0868 - acc: 0.9751 - val_loss: 0.0373 - val_acc: 0.9898\n",
      "Epoch 40/150\n",
      " - 7s - loss: 0.0839 - acc: 0.9750 - val_loss: 0.0394 - val_acc: 0.9892\n",
      "Epoch 41/150\n",
      " - 7s - loss: 0.0811 - acc: 0.9755 - val_loss: 0.0362 - val_acc: 0.9901\n",
      "Epoch 42/150\n",
      " - 7s - loss: 0.0824 - acc: 0.9749 - val_loss: 0.0389 - val_acc: 0.9895\n",
      "Epoch 43/150\n",
      " - 7s - loss: 0.0826 - acc: 0.9753 - val_loss: 0.0355 - val_acc: 0.9898\n",
      "Epoch 44/150\n",
      " - 7s - loss: 0.0817 - acc: 0.9763 - val_loss: 0.0372 - val_acc: 0.9895\n",
      "\n",
      "Epoch 00044: ReduceLROnPlateau reducing learning rate to 1e-05.\n",
      "Epoch 45/150\n",
      " - 7s - loss: 0.0802 - acc: 0.9761 - val_loss: 0.0372 - val_acc: 0.9898\n",
      "Epoch 46/150\n",
      " - 8s - loss: 0.0775 - acc: 0.9771 - val_loss: 0.0360 - val_acc: 0.9900\n",
      "Epoch 47/150\n",
      " - 8s - loss: 0.0775 - acc: 0.9773 - val_loss: 0.0366 - val_acc: 0.9898\n",
      "Epoch 48/150\n",
      " - 9s - loss: 0.0782 - acc: 0.9761 - val_loss: 0.0386 - val_acc: 0.9892\n",
      "Epoch 49/150\n",
      " - 7s - loss: 0.0762 - acc: 0.9774 - val_loss: 0.0357 - val_acc: 0.9900\n",
      "Epoch 50/150\n",
      " - 7s - loss: 0.0778 - acc: 0.9771 - val_loss: 0.0371 - val_acc: 0.9895\n",
      "Epoch 51/150\n",
      " - 7s - loss: 0.0749 - acc: 0.9775 - val_loss: 0.0355 - val_acc: 0.9901\n",
      "Epoch 52/150\n",
      " - 7s - loss: 0.0773 - acc: 0.9768 - val_loss: 0.0347 - val_acc: 0.9902\n",
      "Epoch 53/150\n",
      " - 7s - loss: 0.0753 - acc: 0.9771 - val_loss: 0.0339 - val_acc: 0.9902\n",
      "Epoch 54/150\n",
      " - 7s - loss: 0.0776 - acc: 0.9774 - val_loss: 0.0350 - val_acc: 0.9906\n",
      "Epoch 55/150\n",
      " - 7s - loss: 0.0724 - acc: 0.9778 - val_loss: 0.0354 - val_acc: 0.9902\n",
      "Epoch 56/150\n",
      " - 8s - loss: 0.0755 - acc: 0.9776 - val_loss: 0.0343 - val_acc: 0.9902\n",
      "Epoch 57/150\n",
      " - 8s - loss: 0.0715 - acc: 0.9785 - val_loss: 0.0342 - val_acc: 0.9910\n",
      "Epoch 58/150\n",
      " - 7s - loss: 0.0721 - acc: 0.9782 - val_loss: 0.0341 - val_acc: 0.9905\n",
      "Epoch 59/150\n",
      " - 7s - loss: 0.0742 - acc: 0.9778 - val_loss: 0.0341 - val_acc: 0.9904\n",
      "Epoch 60/150\n",
      " - 7s - loss: 0.0750 - acc: 0.9781 - val_loss: 0.0340 - val_acc: 0.9906\n",
      "Epoch 61/150\n",
      " - 7s - loss: 0.0724 - acc: 0.9788 - val_loss: 0.0335 - val_acc: 0.9906\n",
      "Epoch 62/150\n",
      " - 7s - loss: 0.0745 - acc: 0.9773 - val_loss: 0.0343 - val_acc: 0.9901\n",
      "Epoch 63/150\n",
      " - 7s - loss: 0.0753 - acc: 0.9779 - val_loss: 0.0348 - val_acc: 0.9899\n",
      "Epoch 64/150\n",
      " - 7s - loss: 0.0737 - acc: 0.9776 - val_loss: 0.0335 - val_acc: 0.9905\n",
      "Epoch 65/150\n",
      " - 7s - loss: 0.0711 - acc: 0.9792 - val_loss: 0.0332 - val_acc: 0.9911\n",
      "Epoch 66/150\n",
      " - 7s - loss: 0.0703 - acc: 0.9792 - val_loss: 0.0357 - val_acc: 0.9901\n",
      "Epoch 67/150\n",
      " - 8s - loss: 0.0724 - acc: 0.9786 - val_loss: 0.0350 - val_acc: 0.9900\n",
      "Epoch 68/150\n",
      " - 8s - loss: 0.0725 - acc: 0.9786 - val_loss: 0.0328 - val_acc: 0.9906\n",
      "Epoch 69/150\n",
      " - 7s - loss: 0.0696 - acc: 0.9788 - val_loss: 0.0358 - val_acc: 0.9904\n",
      "Epoch 70/150\n",
      " - 7s - loss: 0.0682 - acc: 0.9792 - val_loss: 0.0333 - val_acc: 0.9906\n",
      "Epoch 71/150\n",
      " - 7s - loss: 0.0682 - acc: 0.9803 - val_loss: 0.0325 - val_acc: 0.9912\n",
      "Epoch 72/150\n",
      " - 7s - loss: 0.0674 - acc: 0.9792 - val_loss: 0.0342 - val_acc: 0.9911\n",
      "Epoch 73/150\n",
      " - 7s - loss: 0.0662 - acc: 0.9805 - val_loss: 0.0332 - val_acc: 0.9905\n",
      "Epoch 74/150\n",
      " - 7s - loss: 0.0675 - acc: 0.9790 - val_loss: 0.0354 - val_acc: 0.9901\n",
      "Epoch 75/150\n",
      " - 7s - loss: 0.0679 - acc: 0.9801 - val_loss: 0.0340 - val_acc: 0.9906\n",
      "Epoch 76/150\n",
      " - 7s - loss: 0.0657 - acc: 0.9801 - val_loss: 0.0321 - val_acc: 0.9915\n",
      "Epoch 77/150\n",
      " - 7s - loss: 0.0727 - acc: 0.9787 - val_loss: 0.0329 - val_acc: 0.9914\n",
      "Epoch 78/150\n",
      " - 8s - loss: 0.0686 - acc: 0.9794 - val_loss: 0.0337 - val_acc: 0.9902\n",
      "Epoch 79/150\n",
      " - 8s - loss: 0.0646 - acc: 0.9802 - val_loss: 0.0322 - val_acc: 0.9914\n",
      "Epoch 80/150\n",
      " - 7s - loss: 0.0648 - acc: 0.9797 - val_loss: 0.0323 - val_acc: 0.9908\n",
      "Epoch 81/150\n",
      " - 8s - loss: 0.0669 - acc: 0.9798 - val_loss: 0.0329 - val_acc: 0.9911\n",
      "Epoch 82/150\n",
      " - 7s - loss: 0.0663 - acc: 0.9799 - val_loss: 0.0315 - val_acc: 0.9910\n",
      "Epoch 83/150\n",
      " - 7s - loss: 0.0661 - acc: 0.9797 - val_loss: 0.0325 - val_acc: 0.9910\n",
      "Epoch 84/150\n",
      " - 7s - loss: 0.0664 - acc: 0.9799 - val_loss: 0.0358 - val_acc: 0.9904\n",
      "Epoch 85/150\n",
      " - 7s - loss: 0.0609 - acc: 0.9808 - val_loss: 0.0331 - val_acc: 0.9908\n",
      "Epoch 86/150\n",
      " - 7s - loss: 0.0677 - acc: 0.9804 - val_loss: 0.0322 - val_acc: 0.9911\n",
      "Epoch 87/150\n",
      " - 7s - loss: 0.0615 - acc: 0.9815 - val_loss: 0.0323 - val_acc: 0.9914\n",
      "Epoch 88/150\n",
      " - 8s - loss: 0.0646 - acc: 0.9809 - val_loss: 0.0329 - val_acc: 0.9911\n",
      "Epoch 89/150\n",
      " - 9s - loss: 0.0652 - acc: 0.9805 - val_loss: 0.0325 - val_acc: 0.9911\n",
      "Epoch 90/150\n",
      " - 7s - loss: 0.0656 - acc: 0.9805 - val_loss: 0.0319 - val_acc: 0.9915\n",
      "Epoch 91/150\n",
      " - 7s - loss: 0.0608 - acc: 0.9813 - val_loss: 0.0315 - val_acc: 0.9917\n",
      "Epoch 92/150\n",
      " - 7s - loss: 0.0617 - acc: 0.9818 - val_loss: 0.0308 - val_acc: 0.9915\n",
      "Epoch 93/150\n",
      " - 7s - loss: 0.0627 - acc: 0.9816 - val_loss: 0.0321 - val_acc: 0.9914\n",
      "Epoch 94/150\n",
      " - 7s - loss: 0.0614 - acc: 0.9826 - val_loss: 0.0329 - val_acc: 0.9913\n",
      "Epoch 95/150\n",
      " - 7s - loss: 0.0637 - acc: 0.9815 - val_loss: 0.0323 - val_acc: 0.9913\n",
      "Epoch 96/150\n",
      " - 7s - loss: 0.0657 - acc: 0.9800 - val_loss: 0.0327 - val_acc: 0.9906\n",
      "Epoch 97/150\n",
      " - 8s - loss: 0.0629 - acc: 0.9818 - val_loss: 0.0317 - val_acc: 0.9913\n",
      "Epoch 98/150\n",
      " - 7s - loss: 0.0621 - acc: 0.9815 - val_loss: 0.0324 - val_acc: 0.9912\n",
      "Epoch 99/150\n",
      " - 8s - loss: 0.0614 - acc: 0.9819 - val_loss: 0.0319 - val_acc: 0.9914\n",
      "Epoch 100/150\n",
      " - 8s - loss: 0.0576 - acc: 0.9818 - val_loss: 0.0319 - val_acc: 0.9911\n",
      "Epoch 101/150\n",
      " - 7s - loss: 0.0589 - acc: 0.9832 - val_loss: 0.0337 - val_acc: 0.9907\n",
      "Epoch 102/150\n",
      " - 7s - loss: 0.0624 - acc: 0.9816 - val_loss: 0.0330 - val_acc: 0.9911\n",
      "Epoch 103/150\n",
      " - 8s - loss: 0.0597 - acc: 0.9822 - val_loss: 0.0310 - val_acc: 0.9912\n",
      "Epoch 104/150\n",
      " - 7s - loss: 0.0613 - acc: 0.9808 - val_loss: 0.0314 - val_acc: 0.9913\n",
      "Epoch 105/150\n",
      " - 7s - loss: 0.0601 - acc: 0.9826 - val_loss: 0.0324 - val_acc: 0.9917\n",
      "Epoch 106/150\n",
      " - 7s - loss: 0.0617 - acc: 0.9813 - val_loss: 0.0312 - val_acc: 0.9912\n",
      "Epoch 107/150\n",
      " - 7s - loss: 0.0590 - acc: 0.9822 - val_loss: 0.0309 - val_acc: 0.9912\n",
      "Epoch 108/150\n",
      " - 7s - loss: 0.0612 - acc: 0.9822 - val_loss: 0.0310 - val_acc: 0.9914\n",
      "Epoch 109/150\n",
      " - 7s - loss: 0.0615 - acc: 0.9812 - val_loss: 0.0322 - val_acc: 0.9908\n",
      "Epoch 110/150\n",
      " - 9s - loss: 0.0615 - acc: 0.9820 - val_loss: 0.0305 - val_acc: 0.9912\n",
      "Epoch 111/150\n",
      " - 7s - loss: 0.0606 - acc: 0.9824 - val_loss: 0.0311 - val_acc: 0.9913\n",
      "Epoch 112/150\n",
      " - 7s - loss: 0.0602 - acc: 0.9819 - val_loss: 0.0304 - val_acc: 0.9914\n",
      "Epoch 113/150\n",
      " - 7s - loss: 0.0578 - acc: 0.9819 - val_loss: 0.0300 - val_acc: 0.9917\n",
      "Epoch 114/150\n",
      " - 7s - loss: 0.0582 - acc: 0.9827 - val_loss: 0.0313 - val_acc: 0.9919\n",
      "Epoch 115/150\n",
      " - 7s - loss: 0.0592 - acc: 0.9820 - val_loss: 0.0317 - val_acc: 0.9914\n",
      "Epoch 116/150\n",
      " - 7s - loss: 0.0600 - acc: 0.9811 - val_loss: 0.0297 - val_acc: 0.9920\n",
      "Epoch 117/150\n",
      " - 7s - loss: 0.0596 - acc: 0.9818 - val_loss: 0.0303 - val_acc: 0.9918\n",
      "Epoch 118/150\n",
      " - 7s - loss: 0.0590 - acc: 0.9830 - val_loss: 0.0321 - val_acc: 0.9912\n",
      "Epoch 119/150\n",
      " - 7s - loss: 0.0556 - acc: 0.9837 - val_loss: 0.0308 - val_acc: 0.9914\n",
      "Epoch 120/150\n",
      " - 8s - loss: 0.0575 - acc: 0.9821 - val_loss: 0.0298 - val_acc: 0.9924\n",
      "Epoch 121/150\n",
      " - 8s - loss: 0.0576 - acc: 0.9829 - val_loss: 0.0312 - val_acc: 0.9918\n",
      "Epoch 122/150\n",
      " - 7s - loss: 0.0571 - acc: 0.9821 - val_loss: 0.0322 - val_acc: 0.9914\n",
      "Epoch 123/150\n",
      " - 7s - loss: 0.0566 - acc: 0.9827 - val_loss: 0.0310 - val_acc: 0.9918\n",
      "Epoch 124/150\n",
      " - 7s - loss: 0.0586 - acc: 0.9827 - val_loss: 0.0304 - val_acc: 0.9921\n",
      "Epoch 125/150\n",
      " - 7s - loss: 0.0554 - acc: 0.9838 - val_loss: 0.0304 - val_acc: 0.9919\n",
      "Epoch 126/150\n",
      " - 7s - loss: 0.0549 - acc: 0.9836 - val_loss: 0.0297 - val_acc: 0.9919\n",
      "Epoch 127/150\n",
      " - 7s - loss: 0.0559 - acc: 0.9830 - val_loss: 0.0293 - val_acc: 0.9924\n",
      "Epoch 128/150\n",
      " - 8s - loss: 0.0578 - acc: 0.9829 - val_loss: 0.0311 - val_acc: 0.9919\n",
      "Epoch 129/150\n",
      " - 8s - loss: 0.0557 - acc: 0.9832 - val_loss: 0.0299 - val_acc: 0.9923\n",
      "Epoch 130/150\n",
      " - 9s - loss: 0.0549 - acc: 0.9829 - val_loss: 0.0286 - val_acc: 0.9926\n",
      "Epoch 131/150\n",
      " - 8s - loss: 0.0581 - acc: 0.9826 - val_loss: 0.0301 - val_acc: 0.9918\n",
      "Epoch 132/150\n",
      " - 8s - loss: 0.0534 - acc: 0.9827 - val_loss: 0.0299 - val_acc: 0.9919\n",
      "Epoch 133/150\n",
      " - 7s - loss: 0.0558 - acc: 0.9831 - val_loss: 0.0306 - val_acc: 0.9919\n",
      "Epoch 134/150\n",
      " - 8s - loss: 0.0561 - acc: 0.9838 - val_loss: 0.0303 - val_acc: 0.9918\n",
      "Epoch 135/150\n",
      " - 7s - loss: 0.0569 - acc: 0.9840 - val_loss: 0.0301 - val_acc: 0.9921\n",
      "Epoch 136/150\n",
      " - 8s - loss: 0.0530 - acc: 0.9837 - val_loss: 0.0285 - val_acc: 0.9923\n",
      "Epoch 137/150\n",
      " - 7s - loss: 0.0531 - acc: 0.9836 - val_loss: 0.0290 - val_acc: 0.9926\n",
      "Epoch 138/150\n",
      " - 8s - loss: 0.0527 - acc: 0.9848 - val_loss: 0.0290 - val_acc: 0.9924\n",
      "Epoch 139/150\n",
      " - 8s - loss: 0.0541 - acc: 0.9835 - val_loss: 0.0301 - val_acc: 0.9919\n",
      "Epoch 140/150\n",
      " - 8s - loss: 0.0552 - acc: 0.9827 - val_loss: 0.0297 - val_acc: 0.9919\n",
      "Epoch 141/150\n",
      " - 8s - loss: 0.0557 - acc: 0.9836 - val_loss: 0.0294 - val_acc: 0.9919\n",
      "Epoch 142/150\n",
      " - 8s - loss: 0.0526 - acc: 0.9838 - val_loss: 0.0303 - val_acc: 0.9919\n",
      "Epoch 143/150\n",
      " - 8s - loss: 0.0520 - acc: 0.9848 - val_loss: 0.0307 - val_acc: 0.9915\n",
      "Epoch 144/150\n",
      " - 8s - loss: 0.0516 - acc: 0.9840 - val_loss: 0.0292 - val_acc: 0.9923\n",
      "Epoch 145/150\n",
      " - 8s - loss: 0.0531 - acc: 0.9846 - val_loss: 0.0290 - val_acc: 0.9919\n",
      "Epoch 146/150\n",
      " - 8s - loss: 0.0543 - acc: 0.9839 - val_loss: 0.0283 - val_acc: 0.9924\n",
      "Epoch 147/150\n",
      " - 7s - loss: 0.0539 - acc: 0.9835 - val_loss: 0.0304 - val_acc: 0.9918\n",
      "Epoch 148/150\n",
      " - 7s - loss: 0.0543 - acc: 0.9835 - val_loss: 0.0286 - val_acc: 0.9921\n",
      "Epoch 149/150\n",
      " - 8s - loss: 0.0542 - acc: 0.9849 - val_loss: 0.0290 - val_acc: 0.9926\n",
      "Epoch 150/150\n",
      " - 8s - loss: 0.0536 - acc: 0.9843 - val_loss: 0.0317 - val_acc: 0.9911\n"
     ]
    }
   ],
   "source": [
    "model.load_weights('model.init')\n",
    "EPOCHS = 150;\n",
    "# Fit the model\n",
    "history = model.fit_generator(datagen.flow(scaled_x_train,y_train, batch_size=batch_size),\n",
    "                              epochs = EPOCHS, \n",
    "                              validation_data = (scaled_x_val,y_val),\n",
    "                              verbose = 2, steps_per_epoch=x_train.shape[0] // batch_size\n",
    "                              , callbacks=[learning_rate_reduction])"
   ]
  },
  {
   "cell_type": "code",
   "execution_count": 21,
   "metadata": {
    "_uuid": "85bd6379280f084395d406f4049c125464a3d1c2"
   },
   "outputs": [],
   "source": [
    "model.save_weights('model.augmented_fitted')"
   ]
  },
  {
   "cell_type": "code",
   "execution_count": 22,
   "metadata": {
    "_uuid": "e5546241790bdc0c63a3213878386ea48e31bdab"
   },
   "outputs": [
    {
     "data": {
      "image/png": "[encoded data removed]",
      "text/plain": [
       "<Figure size 432x288 with 2 Axes>"
      ]
     },
     "metadata": {},
     "output_type": "display_data"
    }
   ],
   "source": [
    " #Plot the loss and accuracy curves for training and validation \n",
    "fig, ax = plt.subplots(2,1)\n",
    "ax[0].plot(history.history['loss'], color='b', label=\"Training loss\")\n",
    "ax[0].plot(history.history['val_loss'], color='r', label=\"validation loss\",axes =ax[0])\n",
    "legend = ax[0].legend(loc='best', shadow=True)\n",
    "\n",
    "ax[1].plot(history.history['acc'], color='b', label=\"Training accuracy\")\n",
    "ax[1].plot(history.history['val_acc'], color='r',label=\"Validation accuracy\")\n",
    "legend = ax[1].legend(loc='best', shadow=True)"
   ]
  },
  {
   "cell_type": "code",
   "execution_count": 23,
   "metadata": {
    "_uuid": "a4b703bb86ad8cd46afb7481cc1487533337e734"
   },
   "outputs": [],
   "source": [
    "Y_preds = model.predict(x_val.reshape(-1,28,28,1))\n",
    "Y_preds = np.argmax(Y_preds,axis=1)\n",
    "confusion_mtx = confusion_matrix(y_val,Y_preds)\n",
    "classes = range(10)\n"
   ]
  },
  {
   "cell_type": "code",
   "execution_count": 24,
   "metadata": {
    "_uuid": "4ea5754828099d72b074d093806a3d840794f2e1"
   },
   "outputs": [
    {
     "data": {
      "image/png": "[encoded data removed]",
      "text/plain": [
       "<Figure size 432x288 with 2 Axes>"
      ]
     },
     "metadata": {},
     "output_type": "display_data"
    }
   ],
   "source": [
    "sns.heatmap(confusion_mtx,annot=True, fmt = 'd', cmap =plt.cm.Blues)\n",
    "plt.tight_layout();\n",
    "plt.yticks(rotation=0)\n",
    "plt.ylabel('True label');\n",
    "plt.xlabel('Predicted label');"
   ]
  },
  {
   "cell_type": "markdown",
   "metadata": {},
   "source": [
    "## pickle the model"
   ]
  },
  {
   "cell_type": "code",
   "execution_count": 25,
   "metadata": {},
   "outputs": [],
   "source": [
    "import pickle\n",
    "#dump the augmented model\n",
    "with open('augmented_model.pkl','wb') as f:\n",
    "    pickle.dump(model, f)\n",
    "\n",
    "#the inital model\n",
    "model.load_weights('model.fitted')\n",
    "with open('CNN_fitted_model.pkl','wb') as f:\n",
    "    pickle.dump(model, f)\n",
    "    \n",
    "# # and later you can load it\n",
    "# with open('filename.pkl', 'rb') as f:\n",
    "#     clf = pickle.load(f)"
   ]
  },
  {
   "cell_type": "markdown",
   "metadata": {},
   "source": [
    "## Submission"
   ]
  },
  {
   "cell_type": "code",
   "execution_count": 26,
   "metadata": {
    "_kg_hide-input": false,
    "_uuid": "c0314ed35e70a46835d3a6cfdfd1447def765a1b"
   },
   "outputs": [
    {
     "name": "stderr",
     "output_type": "stream",
     "text": [
      "/opt/conda/lib/python3.6/site-packages/sklearn/utils/validation.py:595: DataConversionWarning: Data with input dtype int64 was converted to float64 by StandardScaler.\n",
      "  warnings.warn(msg, DataConversionWarning)\n"
     ]
    }
   ],
   "source": [
    "#prepare for submission\n",
    "\n",
    "scaled_x_test = scaler.transform(X_test)\n",
    "scaled_x_test = scaled_x_test.reshape(-1,28,28,1)"
   ]
  },
  {
   "cell_type": "code",
   "execution_count": 27,
   "metadata": {
    "_uuid": "b6a2306645c7fb07d47e4e7371b614fb08fd3005"
   },
   "outputs": [],
   "source": [
    "\n",
    "submission = pd.read_csv('../input/sample_submission.csv')\n",
    "# print(submission.head())\n",
    "\n",
    "submission.Label = model.predict_classes(scaled_x_test)\n",
    "submission.to_csv('submission_augmented_1.csv',index=False)\n",
    "\n",
    "model.load_weights('model.fitted')\n",
    "submission.Label = model.predict_classes(scaled_x_test)\n",
    "submission.to_csv('submission_no_aug.csv',index=False)\n"
   ]
  },
  {
   "cell_type": "markdown",
   "metadata": {
    "_uuid": "f05dbfd2d2c5b68521ebb29fb718b120834840ed"
   },
   "source": [
    "## Understand Data Augmentation"
   ]
  },
  {
   "cell_type": "code",
   "execution_count": 28,
   "metadata": {
    "_uuid": "a287c432f31674bd4aacb1722735ae53494da71f"
   },
   "outputs": [],
   "source": [
    "gen = ImageDataGenerator(rotation_range=10,width_shift_range=.1,\n",
    "                         height_shift_range=.1,shear_range=.15,\n",
    "                        zoom_range = .1, channel_shift_range=10.)"
   ]
  },
  {
   "cell_type": "code",
   "execution_count": 29,
   "metadata": {
    "_uuid": "48d84d8f1a25036283c0499f9d586fa18c956784"
   },
   "outputs": [
    {
     "data": {
      "text/plain": [
       "<matplotlib.image.AxesImage at 0x7f080c2ea278>"
      ]
     },
     "execution_count": 29,
     "metadata": {},
     "output_type": "execute_result"
    },
    {
     "data": {
      "image/png": "[encoded data removed]",
      "text/plain": [
       "<Figure size 432x288 with 1 Axes>"
      ]
     },
     "metadata": {},
     "output_type": "display_data"
    },
    {
     "data": {
      "image/png": "[encoded data removed]",
      "text/plain": [
       "<Figure size 432x288 with 1 Axes>"
      ]
     },
     "metadata": {},
     "output_type": "display_data"
    },
    {
     "data": {
      "image/png": "[encoded data removed]",
      "text/plain": [
       "<Figure size 432x288 with 1 Axes>"
      ]
     },
     "metadata": {},
     "output_type": "display_data"
    }
   ],
   "source": [
    "i=2;\n",
    "image = scaled_x_train[i];\n",
    "plt.imshow(image.reshape(28,28),cmap='gray')\n",
    "\n",
    "#transform the image\n",
    "image1 = gen.apply_transform(image,transform_parameters={'shear':20})\n",
    "plt.figure()\n",
    "plt.imshow(image1.reshape(28,28),cmap='gray')\n",
    "\n",
    "image1 = gen.apply_transform(image,transform_parameters={'brightness':20})\n",
    "plt.figure()\n",
    "plt.imshow(image1.reshape(28,28),cmap='gray')"
   ]
  },
  {
   "cell_type": "code",
   "execution_count": 30,
   "metadata": {
    "_uuid": "699597dd49614980300c698676d58f592e0eb33a"
   },
   "outputs": [
    {
     "name": "stdout",
     "output_type": "stream",
     "text": [
      "(20, 1, 28, 28, 1)\n",
      "(1, 28, 28, 1)\n"
     ]
    },
    {
     "data": {
      "image/png": "[encoded data removed]",
      "text/plain": [
       "<Figure size 432x288 with 20 Axes>"
      ]
     },
     "metadata": {},
     "output_type": "display_data"
    }
   ],
   "source": [
    "image = X_train.reshape(-1,28,28,1)\n",
    "plt.figure\n",
    "plt.imshow(image.reshape(-1,28,28)[3],cmap='gray')\n",
    "i=3;\n",
    "aug_iter = gen.flow(image[i].reshape(-1,28,28,1))\n",
    "aug_images = np.asarray([next(aug_iter) for i in range(20)])\n",
    "print(aug_images.shape)\n",
    "print(aug_images[0].shape)\n",
    "\n",
    "for j in range(20):\n",
    "    plt.subplot(2,10,j+1)\n",
    "    plt.imshow(aug_images[j][0].reshape(28,28))\n",
    "    \n",
    "# for i in range(3):\n",
    "#     plt.figure\n",
    "#     plt.imshow(aug_images[i].reshape(28,28))\n",
    "# # np.asarray(aug_images)"
   ]
  },
  {
   "cell_type": "code",
   "execution_count": 31,
   "metadata": {
    "_uuid": "787f6276f0ffc579fd143b826be88b17bd11d970"
   },
   "outputs": [],
   "source": [
    "def convolve(image, kernel ):\n",
    "    length, width = image.shape;\n",
    "    k_len = kernel.shape[0];#kernel is square\n",
    "    \n",
    "    out_len, out_wid = (length-k_len+1,width-k_len+1)\n",
    "    convolved = np.zeros((out_len,out_wid))\n",
    "    for i in range(length - k_len+1):\n",
    "        for j in range(width-k_len+1):\n",
    "            convolved[i,j] =np.dot(image[i:i+k_len,j:j+k_len].flatten(),kernel.flatten())\n",
    "    return convolved\n",
    "                              \n",
    "            "
   ]
  },
  {
   "cell_type": "code",
   "execution_count": 32,
   "metadata": {
    "_uuid": "384a33d56c3b010399bef8a1fc2e544505ddef64"
   },
   "outputs": [
    {
     "name": "stdout",
     "output_type": "stream",
     "text": [
      "[[-1 -1 -1]\n",
      " [ 0  0  0]\n",
      " [ 1  1  1]]\n"
     ]
    },
    {
     "data": {
      "text/plain": [
       "<matplotlib.image.AxesImage at 0x7f07d834e080>"
      ]
     },
     "execution_count": 32,
     "metadata": {},
     "output_type": "execute_result"
    },
    {
     "data": {
      "image/png": "[encoded data removed]",
      "text/plain": [
       "<Figure size 432x288 with 1 Axes>"
      ]
     },
     "metadata": {},
     "output_type": "display_data"
    },
    {
     "data": {
      "image/png": "[encoded data removed]",
      "text/plain": [
       "<Figure size 432x288 with 1 Axes>"
      ]
     },
     "metadata": {},
     "output_type": "display_data"
    }
   ],
   "source": [
    "test_img = scaled_x_train[0].reshape(28,28)\n",
    "\n",
    "plt.imshow(test_img,cmap='gray')\n",
    "kernel =np.array([[-1]*3, [0]*3, [1]*3])\n",
    "print(kernel)\n",
    "conv = convolve(test_img,kernel)\n",
    "plt.figure()\n",
    "plt.imshow(conv,cmap='gray')"
   ]
  },
  {
   "cell_type": "code",
   "execution_count": 33,
   "metadata": {
    "_uuid": "ba71a120fdf49465d11e1a8ee775aa4a59ba995d"
   },
   "outputs": [
    {
     "name": "stdout",
     "output_type": "stream",
     "text": [
      "[[-2 -1  0  1  2]\n",
      " [-2 -1  0  1  2]\n",
      " [-2 -1  0  1  2]\n",
      " [-2 -1  0  1  2]\n",
      " [-2 -1  0  1  2]]\n"
     ]
    },
    {
     "data": {
      "text/plain": [
       "<matplotlib.image.AxesImage at 0x7f07d845de80>"
      ]
     },
     "execution_count": 33,
     "metadata": {},
     "output_type": "execute_result"
    },
    {
     "data": {
      "image/png": "[encoded data removed]",
      "text/plain": [
       "<Figure size 432x288 with 1 Axes>"
      ]
     },
     "metadata": {},
     "output_type": "display_data"
    },
    {
     "data": {
      "image/png": "[encoded data removed]",
      "text/plain": [
       "<Figure size 432x288 with 1 Axes>"
      ]
     },
     "metadata": {},
     "output_type": "display_data"
    }
   ],
   "source": [
    "test_img = scaled_x_train[0].reshape(28,28)\n",
    "\n",
    "plt.imshow(test_img,cmap='gray')\n",
    "kernel =np.array([[-2]*5,[-1]*5, [0]*5, [1]*5,[2]*5]).T\n",
    "print(kernel)\n",
    "conv = convolve(test_img,kernel)\n",
    "plt.figure()\n",
    "plt.imshow(conv,cmap='gray')"
   ]
  },
  {
   "cell_type": "code",
   "execution_count": 34,
   "metadata": {
    "_uuid": "6ce4fb1fd22f7106902e9f5805d04fc185958b21"
   },
   "outputs": [
    {
     "name": "stdout",
     "output_type": "stream",
     "text": [
      "179.16666666666666\n"
     ]
    },
    {
     "data": {
      "text/plain": [
       "array([0, 0, 0, 0, 0, 0, 0, 0, 0, 0, 0, 0, 0, 0, 0, 0, 0, 0, 0, 0, 0, 0,\n",
       "       0, 0, 0, 0, 0, 0, 0, 0, 0, 0, 0, 0, 0, 0, 0, 0, 0, 0, 0, 0, 0, 0,\n",
       "       0, 0, 0, 0, 0, 0, 0, 0, 0, 0, 0, 0, 0, 0, 0, 0, 0, 0, 0, 0, 0, 0,\n",
       "       0, 0, 0, 0, 0, 0, 0, 0, 0, 1, 1, 0, 0, 0, 0, 0, 0, 0, 0, 0, 0, 0,\n",
       "       0, 0, 0, 0, 0, 0, 0, 0, 0, 0, 0, 0, 0, 1, 1, 1, 1, 0, 0, 0, 0, 0,\n",
       "       0, 0, 0, 0, 0, 0, 0, 0, 0, 0, 0, 0, 0, 0, 0, 0, 0, 0, 1, 1, 1, 0,\n",
       "       0, 0, 0, 0, 0, 0, 0, 0, 0, 0, 0, 0, 0, 0, 0, 0, 0, 0, 0, 0, 0, 0,\n",
       "       0, 1, 1, 1, 0, 0, 0, 0, 0, 0, 0, 0, 0, 0, 0, 0, 0, 0, 0, 0, 0, 0,\n",
       "       0, 0, 0, 0, 0, 0, 1, 1, 1, 0, 0, 0, 0, 0, 0, 0, 0, 0, 0, 0, 0, 0,\n",
       "       0, 0, 0, 0, 0, 0, 0, 0, 0, 0, 0, 1, 1, 1, 0, 0, 0, 0, 0, 0, 0, 0,\n",
       "       0, 0, 0, 0, 0, 0, 0, 0, 0, 0, 0, 0, 0, 0, 0, 0, 1, 1, 1, 0, 0, 0,\n",
       "       0, 0, 0, 0, 0, 0, 0, 0, 0, 0, 0, 0, 0, 0, 0, 0, 0, 0, 0, 0, 0, 1,\n",
       "       1, 1, 0, 0, 0, 0, 0, 0, 0, 0, 0, 0, 0, 0, 0, 0, 0, 0, 0, 0, 0, 0,\n",
       "       0, 0, 0, 0, 0, 1, 1, 0, 0, 0, 0, 0, 0, 0, 0, 0, 0, 0, 0, 0, 0, 0,\n",
       "       0, 0, 0, 0, 0, 0, 0, 0, 0, 0, 1, 1, 1, 0, 0, 0, 0, 0, 0, 0, 0, 0,\n",
       "       0, 0, 0, 0, 0, 0, 0, 0, 0, 0, 0, 0, 0, 0, 0, 0, 1, 1, 0, 0, 0, 0,\n",
       "       0, 0, 0, 0, 0, 0, 0, 0, 0, 0, 0, 0, 0, 0, 0, 0, 0, 0, 0, 0, 0, 1,\n",
       "       1, 1, 1, 0, 0, 0, 0, 0, 0, 0, 0, 0, 0, 0, 0, 0, 0, 0, 0, 0, 0, 0,\n",
       "       0, 0, 0, 0, 0, 1, 1, 1, 1, 1, 1, 1, 0, 0, 0, 0, 0, 0, 0, 0, 0, 0,\n",
       "       0, 0, 0, 0, 0, 0, 0, 0, 0, 0, 0, 1, 1, 1, 1, 1, 1, 1, 1, 1, 0, 0,\n",
       "       0, 0, 0, 0, 0, 0, 0, 0, 0, 0, 0, 0, 0, 0, 0, 0, 0, 1, 1, 1, 0, 0,\n",
       "       0, 1, 1, 1, 0, 0, 0, 0, 0, 0, 0, 0, 0, 0, 0, 0, 0, 0, 0, 0, 0, 0,\n",
       "       0, 1, 1, 0, 0, 0, 0, 0, 1, 1, 1, 0, 0, 0, 0, 0, 0, 0, 0, 0, 0, 0,\n",
       "       0, 0, 0, 0, 0, 0, 0, 1, 1, 1, 0, 0, 0, 0, 1, 1, 1, 0, 0, 0, 0, 0,\n",
       "       0, 0, 0, 0, 0, 0, 0, 0, 0, 0, 0, 0, 0, 1, 1, 1, 0, 0, 0, 0, 1, 1,\n",
       "       1, 0, 0, 0, 0, 0, 0, 0, 0, 0, 0, 0, 0, 0, 0, 0, 0, 0, 0, 1, 1, 1,\n",
       "       1, 1, 0, 0, 1, 1, 1, 0, 0, 0, 0, 0, 0, 0, 0, 0, 0, 0, 0, 0, 0, 0,\n",
       "       0, 0, 0, 0, 1, 1, 1, 1, 1, 1, 1, 1, 0, 0, 0, 0, 0, 0, 0, 0, 0, 0,\n",
       "       0, 0, 0, 0, 0, 0, 0, 0, 0, 0, 0, 0, 0, 0, 0, 0, 0, 0, 0, 0, 0, 0,\n",
       "       0, 0, 0, 0, 0, 0, 0, 0, 0, 0, 0, 0, 0, 0, 0, 0, 0, 0, 0, 0, 0, 0,\n",
       "       0, 0, 0, 0, 0, 0, 0, 0, 0, 0, 0, 0, 0, 0, 0, 0, 0, 0, 0, 0, 0, 0,\n",
       "       0, 0, 0, 0, 0, 0, 0, 0, 0, 0, 0, 0, 0, 0, 0, 0, 0, 0, 0, 0, 0, 0,\n",
       "       0, 0, 0, 0, 0, 0, 0, 0, 0, 0, 0, 0, 0, 0, 0, 0, 0, 0, 0, 0, 0, 0,\n",
       "       0, 0, 0, 0, 0, 0, 0, 0, 0, 0, 0, 0, 0, 0, 0, 0, 0, 0, 0, 0, 0, 0,\n",
       "       0, 0, 0, 0, 0, 0, 0, 0, 0, 0, 0, 0, 0, 0, 0, 0, 0, 0, 0, 0, 0, 0,\n",
       "       0, 0, 0, 0, 0, 0, 0, 0, 0, 0, 0, 0, 0, 0])"
      ]
     },
     "execution_count": 34,
     "metadata": {},
     "output_type": "execute_result"
    },
    {
     "data": {
      "image/png": "[encoded data removed]",
      "text/plain": [
       "<Figure size 432x288 with 1 Axes>"
      ]
     },
     "metadata": {},
     "output_type": "display_data"
    }
   ],
   "source": [
    "img = X_train[45].copy()\n",
    "avg = np.ma.mean(img[img>0])\n",
    "print(avg)\n",
    "img = np.where(img < avg,0,1);\n",
    "\n",
    "\n",
    "\n",
    "plt.imshow(img.reshape((28,28)),cmap ='gray')\n",
    "img"
   ]
  },
  {
   "cell_type": "code",
   "execution_count": 35,
   "metadata": {
    "_uuid": "2ae1919c15fda2b6dfe4145b373b8d33677177c6"
   },
   "outputs": [
    {
     "ename": "NameError",
     "evalue": "name 'mod' is not defined",
     "output_type": "error",
     "traceback": [
      "\u001b[0;31m---------------------------------------------------------------------------\u001b[0m",
      "\u001b[0;31mNameError\u001b[0m                                 Traceback (most recent call last)",
      "\u001b[0;32m<ipython-input-35-35e23e581264>\u001b[0m in \u001b[0;36m<module>\u001b[0;34m()\u001b[0m\n\u001b[0;32m----> 1\u001b[0;31m \u001b[0mmod\u001b[0m\u001b[0;34m\u001b[0m\u001b[0m\n\u001b[0m",
      "\u001b[0;31mNameError\u001b[0m: name 'mod' is not defined"
     ]
    }
   ],
   "source": [
    "mod"
   ]
  }
 ],
 "metadata": {
  "kernelspec": {
   "display_name": "Python 3",
   "language": "python",
   "name": "python3"
  },
  "language_info": {
   "codemirror_mode": {
    "name": "ipython",
    "version": 3
   },
   "file_extension": ".py",
   "mimetype": "text/x-python",
   "name": "python",
   "nbconvert_exporter": "python",
   "pygments_lexer": "ipython3",
   "version": "3.6.8"
  }
 },
 "nbformat": 4,
 "nbformat_minor": 1
}
