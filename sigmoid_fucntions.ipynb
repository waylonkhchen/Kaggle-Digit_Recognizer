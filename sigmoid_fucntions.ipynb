{
 "cells": [
  {
   "cell_type": "code",
   "execution_count": null,
   "metadata": {
    "collapsed": true
   },
   "outputs": [],
   "source": [
    "import numpy as np\n",
    "###write the cost function for logistic regression\n",
    "##The cost function for logistic regression is defined as \n",
    "##J(th,x,y) = -1/m*\\sum_{i=1}^{m} (y^i Log(p^i)+(1-y^i)Log(1-p^i)\n",
    "##          =(class1_cost + class2_cost )/m\n",
    "##where p^i=p(th,x^i) = 1/(1+exp(th.x^i))\n",
    "\n",
    "def sigmoid(z):\n",
    "    return 1/(1+np.exp(-z))\n",
    "\n",
    "def predict(features, weights):\n",
    "    z= np.dot(features, weights)\n",
    "    return sigmoid(z)\n",
    "\n",
    "def cost_function(labels, features, weights):\n",
    "    '''\n",
    "    labels = y^i = (N,1)\n",
    "    features = x^i = (N,d)\n",
    "    weights = th = (d,1)\n",
    "    where N:number of observations\n",
    "            d:dimensions of the features for each label\n",
    "    '''\n",
    "    observations = len(labels)\n",
    "    predictions = predict(features,wieght)\n",
    "    \n",
    "    #the cost from label =1\n",
    "    class1_cost= -labels*np.log(predictions)\n",
    "    \n",
    "    #the cost from label =0\n",
    "    class2_cost = -(1-labels)*np.log(1-predictions)\n",
    "    \n",
    "    ##note that the cost class1&2 separate automatically due to the property of the cost function\n",
    "    ##and we don't need to select the classes out (the other class is automatically zero)\n",
    "    \n",
    "    cost = class1_cost+class2_cost\n",
    "    \n",
    "    cost=cost.sum()/observations\n",
    "    \n",
    "    return cost\n",
    "    "
   ]
  }
 ],
 "metadata": {
  "kernelspec": {
   "display_name": "Python 3",
   "language": "python",
   "name": "python3"
  },
  "language_info": {
   "codemirror_mode": {
    "name": "ipython",
    "version": 3
   },
   "file_extension": ".py",
   "mimetype": "text/x-python",
   "name": "python",
   "nbconvert_exporter": "python",
   "pygments_lexer": "ipython3",
   "version": "3.6.3"
  }
 },
 "nbformat": 4,
 "nbformat_minor": 2
}
